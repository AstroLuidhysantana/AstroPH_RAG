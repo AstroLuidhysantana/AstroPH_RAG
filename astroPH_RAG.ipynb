{
 "cells": [
  {
   "cell_type": "code",
   "execution_count": 1,
   "metadata": {},
   "outputs": [
    {
     "name": "stderr",
     "output_type": "stream",
     "text": [
      "2025-01-20 20:11:46.136766: I tensorflow/core/util/port.cc:110] oneDNN custom operations are on. You may see slightly different numerical results due to floating-point round-off errors from different computation orders. To turn them off, set the environment variable `TF_ENABLE_ONEDNN_OPTS=0`.\n",
      "2025-01-20 20:11:46.139184: I tensorflow/tsl/cuda/cudart_stub.cc:28] Could not find cuda drivers on your machine, GPU will not be used.\n",
      "2025-01-20 20:11:46.197117: I tensorflow/core/platform/cpu_feature_guard.cc:182] This TensorFlow binary is optimized to use available CPU instructions in performance-critical operations.\n",
      "To enable the following instructions: AVX2 AVX512F AVX512_VNNI FMA, in other operations, rebuild TensorFlow with the appropriate compiler flags.\n",
      "2025-01-20 20:11:47.297018: W tensorflow/compiler/tf2tensorrt/utils/py_utils.cc:38] TF-TRT Warning: Could not find TensorRT\n"
     ]
    }
   ],
   "source": [
    "import torch\n",
    "import os\n",
    "import getpass\n",
    "\n",
    "from transformers import AutoModelForCausalLM, AutoTokenizer, pipeline, BitsAndBytesConfig\n",
    "from langchain_huggingface import HuggingFacePipeline\n",
    "\n",
    "from langchain.prompts import PromptTemplate\n",
    "from langchain_core.prompts import (\n",
    "    ChatPromptTemplate,\n",
    "    HumanMessagePromptTemplate,\n",
    "    MessagesPlaceholder,\n",
    ")\n",
    "from langchain_core.messages import SystemMessage\n",
    "from langchain_core.output_parsers import StrOutputParser\n",
    "from langchain_core.runnables import RunnablePassthrough"
   ]
  },
  {
   "cell_type": "code",
   "execution_count": 2,
   "metadata": {},
   "outputs": [
    {
     "name": "stderr",
     "output_type": "stream",
     "text": [
      "USER_AGENT environment variable not set, consider setting it to identify your requests.\n"
     ]
    }
   ],
   "source": [
    "import bs4\n",
    "from langchain_community.document_loaders import WebBaseLoader\n",
    "from langchain_huggingface import HuggingFaceEmbeddings\n",
    "from langchain_chroma import Chroma"
   ]
  },
  {
   "cell_type": "code",
   "execution_count": 2,
   "metadata": {},
   "outputs": [],
   "source": [
    "####remember to use your huggingface token here\n",
    "\n"
   ]
  },
  {
   "cell_type": "code",
   "execution_count": 3,
   "metadata": {},
   "outputs": [],
   "source": [
    "os.environ[\"HF_TOKEN\"] = getpass.getpass() ###this request your huggingface token"
   ]
  },
  {
   "cell_type": "code",
   "execution_count": 4,
   "metadata": {},
   "outputs": [
    {
     "name": "stderr",
     "output_type": "stream",
     "text": [
      "`low_cpu_mem_usage` was None, now default to True since model is quantized.\n"
     ]
    },
    {
     "data": {
      "application/vnd.jupyter.widget-view+json": {
       "model_id": "7f8b2325dc6944d993ac0d83d4d3ace4",
       "version_major": 2,
       "version_minor": 0
      },
      "text/plain": [
       "Loading checkpoint shards:   0%|          | 0/4 [00:00<?, ?it/s]"
      ]
     },
     "metadata": {},
     "output_type": "display_data"
    },
    {
     "name": "stderr",
     "output_type": "stream",
     "text": [
      "Device set to use cuda:0\n"
     ]
    }
   ],
   "source": [
    "model_id = \"meta-llama/Meta-Llama-3-8B-Instruct\"\n",
    "#model_id = \"microsoft/Phi-3-mini-4k-instruct\"\n",
    "\n",
    "quantization_config = BitsAndBytesConfig(\n",
    "    load_in_4bit=True, bnb_4bit_use_double_quant=True, bnb_4bit_quant_type=\"nf4\", bnb_4bit_compute_dtype=torch.bfloat16\n",
    ")\n",
    "\n",
    "model = AutoModelForCausalLM.from_pretrained(model_id, quantization_config=quantization_config)\n",
    "tokenizer = AutoTokenizer.from_pretrained(model_id)\n",
    "\n",
    "pipe = pipeline(\n",
    "    model=model,\n",
    "    tokenizer=tokenizer,\n",
    "    task=\"text-generation\",\n",
    "    temperature=0.1,\n",
    "    max_new_tokens=500,\n",
    "    do_sample=True,\n",
    "    repetition_penalty=1.1,\n",
    "    return_full_text=False,\n",
    ")\n",
    "llm = HuggingFacePipeline(pipeline=pipe)"
   ]
  },
  {
   "cell_type": "code",
   "execution_count": null,
   "metadata": {},
   "outputs": [],
   "source": [
    "# template for LLAMA 3\n",
    "#template = \"\"\"\n",
    "#<|begin_of_text|>\n",
    "#<|start_header_id|>system<|end_header_id|>\n",
    "#Você é um assistente virtual prestativo e está respondendo perguntas gerais.\n",
    "#<|eot_id|>\n",
    "#<|start_header_id|>user<|end_header_id|>\n",
    "#{pergunta}\n",
    "#<|eot_id|>\n",
    "#<|start_header_id|>assistant<|end_header_id|>\n",
    "#\"\"\"\n",
    "\n",
    "#template"
   ]
  },
  {
   "cell_type": "code",
   "execution_count": 20,
   "metadata": {},
   "outputs": [],
   "source": [
    "template_rag = \"\"\"\n",
    "<|begin_of_text|>\n",
    "<|start_header_id|>system<|end_header_id|>\n",
    "You are a professional astronomer searching for the main topics in the new articles available on\n",
    "archive with the goal to check the main results from those articles.  When providing results, ensure they are formatted as:\n",
    "- Bullet points for key topics.\n",
    "- Paragraphs for explanations.\n",
    "- Use Markdown if helpful.\n",
    "<|eot_id|>\n",
    "<|start_header_id|>user<|end_header_id|>\n",
    "Pergunta: {question}\n",
    "Contexto: {context}\n",
    "<|eot_id|>\n",
    "<|start_header_id|>assistant<|end_header_id|>\n",
    "\"\"\""
   ]
  },
  {
   "cell_type": "code",
   "execution_count": 21,
   "metadata": {},
   "outputs": [
    {
     "name": "stdout",
     "output_type": "stream",
     "text": [
      "input_variables=['context', 'question'] input_types={} partial_variables={} template='\\n<|begin_of_text|>\\n<|start_header_id|>system<|end_header_id|>\\nYou are a professional astronomer searching for the main topics in the new articles available on\\narchive with the goal to check the main results from those articles.  When providing results, ensure they are formatted as:\\n- Bullet points for key topics.\\n- Paragraphs for explanations.\\n- Use Markdown if helpful.\\n<|eot_id|>\\n<|start_header_id|>user<|end_header_id|>\\nPergunta: {question}\\nContexto: {context}\\n<|eot_id|>\\n<|start_header_id|>assistant<|end_header_id|>\\n'\n"
     ]
    }
   ],
   "source": [
    "prompt_rag = PromptTemplate.from_template(template_rag)\n",
    "print(prompt_rag)"
   ]
  },
  {
   "cell_type": "code",
   "execution_count": 7,
   "metadata": {},
   "outputs": [],
   "source": [
    "loader = WebBaseLoader(web_paths = (\"https://arxiv.org/list/astro-ph.GA/new\",),)\n",
    "docs = loader.load()"
   ]
  },
  {
   "cell_type": "code",
   "execution_count": 10,
   "metadata": {},
   "outputs": [],
   "source": [
    "###splittting text for the text model\n",
    "from langchain_text_splitters import RecursiveCharacterTextSplitter\n",
    "\n",
    "text_splitter = RecursiveCharacterTextSplitter(chunk_size = 1000, chunk_overlap = 200, add_start_index = True)\n",
    "splits = text_splitter.split_documents(docs)"
   ]
  },
  {
   "cell_type": "code",
   "execution_count": 11,
   "metadata": {},
   "outputs": [
    {
     "data": {
      "text/plain": [
       "[Document(metadata={'source': 'https://arxiv.org/list/astro-ph.GA/new', 'title': 'Astrophysics of Galaxies  ', 'language': 'en', 'start_index': 3}, page_content='Astrophysics of Galaxies  \\n\\n\\n\\n\\n\\n\\n\\n\\n\\n\\n\\n\\n\\n\\n\\n\\n\\n\\nSkip to main content\\n\\n\\n\\n\\n\\nIn just 3 minutes help us improve arXiv:\\nAnnual Global Survey\\n\\nWe gratefully acknowledge support from the Simons Foundation, member institutions, and all contributors.\\nDonate\\n\\n\\n\\n\\n\\n >\\nastro-ph.GA\\n\\n\\n\\n\\n\\n\\nHelp | Advanced Search\\n\\n\\n\\n\\nAll fields\\nTitle\\nAuthor\\nAbstract\\nComments\\nJournal reference\\nACM classification\\nMSC classification\\nReport number\\narXiv identifier\\nDOI\\nORCID\\narXiv author ID\\nHelp pages\\nFull text\\n\\n\\n\\n\\nSearch\\n\\n\\n\\n\\n\\n\\n\\n\\n\\n\\n\\n\\n\\n\\n\\nopen search\\n\\n\\n\\n\\n\\n\\nGO\\n\\n\\n\\nopen navigation menu\\n\\n\\nquick links\\n\\nLogin\\nHelp Pages\\nAbout\\n\\n\\n\\n\\n\\n\\n\\n\\n\\n\\n\\nAstrophysics of Galaxies\\n\\nNew submissions\\nCross-lists\\nReplacements\\n\\nSee recent articles\\nShowing new listings for Monday, 20 January 2025\\nTotal of 26 entries \\n    \\nShowing up to 2000 entries per page:\\n          \\n      fewer\\n |\\n          more\\n |\\n          all\\n\\n\\nNew submissions (showing 8 of 8 entries)\\n\\n[1]\\n\\n        arXiv:2501.09791\\n      \\n      \\n        [pdf, html, other]'),\n",
       " Document(metadata={'source': 'https://arxiv.org/list/astro-ph.GA/new', 'title': 'Astrophysics of Galaxies  ', 'language': 'en', 'start_index': 858}, page_content='New submissions (showing 8 of 8 entries)\\n\\n[1]\\n\\n        arXiv:2501.09791\\n      \\n      \\n        [pdf, html, other]\\n    \\n\\n\\nTitle:\\n          Star-Forming Nuclear Clusters in Dwarf Galaxies Mimicking AGN Signatures in the Mid-Infrared\\n        \\nMegan R. Sturm, Bayli Hayes, Amy E. Reines\\nComments:\\n          11 pages, 5 figures, 2 Tables, accepted for publication in The Astrophysical Journal\\n        \\nSubjects:\\nAstrophysics of Galaxies (astro-ph.GA)'),\n",
       " Document(metadata={'source': 'https://arxiv.org/list/astro-ph.GA/new', 'title': 'Astrophysics of Galaxies  ', 'language': 'en', 'start_index': 1315}, page_content='Effectively finding and identifying active galactic nuclei (AGNs) in dwarf galaxies is an important step in studying black hole formation and evolution. In this work, we examine four mid-IR-selected AGN candidates in dwarf galaxies with stellar masses between $M_\\\\star \\\\sim 10^8 - 10^9 M_\\\\odot$ , and find that the galaxies are host to nuclear star clusters (NSCs) that are notably rare in how young and massive they are. We perform photometric measurements on the central star clusters in our target galaxies galaxies using Hubble Space Telescope optical and near-IR imaging and compare their observed properties to models of stellar population evolution. We find that these galaxies are host to very massive ($\\\\sim10^7 M_\\\\odot$), extremely young ($\\\\lesssim 8$ Myr), dusty ($0.6 \\\\lesssim \\\\mathrm{A_v} \\\\lesssim 1.8$) nuclear star clusters. Our results indicate that these galactic nuclei have ongoing star-formation, are still at least partially obscured by clouds of gas and dust, and are'),\n",
       " Document(metadata={'source': 'https://arxiv.org/list/astro-ph.GA/new', 'title': 'Astrophysics of Galaxies  ', 'language': 'en', 'start_index': 2117}, page_content='\\\\lesssim 1.8$) nuclear star clusters. Our results indicate that these galactic nuclei have ongoing star-formation, are still at least partially obscured by clouds of gas and dust, and are most likely producing the extremely red AGN-like mid-IR colors. Moreover, prior work has shown that these galaxies do not exhibit X-ray or optical AGN signatures. Therefore, we recommend caution when using mid-IR color-color diagnostics for AGN selection in dwarf galaxies, since, as directly exemplified in this sample, they can be contaminated by massive star clusters with ongoing star formation.'),\n",
       " Document(metadata={'source': 'https://arxiv.org/list/astro-ph.GA/new', 'title': 'Astrophysics of Galaxies  ', 'language': 'en', 'start_index': 2717}, page_content='[2]\\n\\n        arXiv:2501.09827\\n      \\n      \\n        [pdf, html, other]\\n    \\n\\n\\nTitle:\\n          Dual-component stellar assembly histories in local elliptical galaxies via MUSE\\n        \\nKeerthana Jegatheesan, Evelyn J. Johnston, Boris Häußler, Augusto E. Lassen, Rogério Riffel, Ana L. Chies-Santos\\nComments:\\n          20 pages, 9 figures, 5 tables. Accepted for publication in A&A\\n        \\nSubjects:\\nAstrophysics of Galaxies (astro-ph.GA)'),\n",
       " Document(metadata={'source': 'https://arxiv.org/list/astro-ph.GA/new', 'title': 'Astrophysics of Galaxies  ', 'language': 'en', 'start_index': 3167}, page_content='Elliptical galaxies often exhibit complex assembly histories, and are presumed to typically form through a combination of rapid, early star formation and subsequent accretion of material, often resulting from mergers with other galaxies. To investigate theories of spheroidal galaxy formation, the objective of this work is to analyse the star formation histories (SFHs) of a sample of three isolated elliptical galaxies in the local Universe observed with MUSE at $z<0.06$. With BUDDI, we decompose the integral field unit (IFU) datacubes into two components with Sérsic profiles, which roughly correspond to the two phases of in-situ and ex-situ star formation. To constrain the mode of growth in these galaxies, we derived the mass and light-weighted stellar ages and metallicities, and created the 2D stellar population maps of each component using pPXF. We reconstructed the mass and light-weighted SFHs to constrain the contribution of different stellar populations to the mass and'),\n",
       " Document(metadata={'source': 'https://arxiv.org/list/astro-ph.GA/new', 'title': 'Astrophysics of Galaxies  ', 'language': 'en', 'start_index': 3957}, page_content='created the 2D stellar population maps of each component using pPXF. We reconstructed the mass and light-weighted SFHs to constrain the contribution of different stellar populations to the mass and luminosity of the components through cosmic time. Our results show that the ellipticals in this sample have experienced an early and rapid phase of star formation either through a rapid dissipative collapse or gas-rich major mergers concentrated in the inner component, which contributes to $\\\\sim50$% of the galaxy stellar mass. The co-dominant outer component, however, had assembled the bulk of its stellar mass shortly after the inner component did, through accretion via dry mergers and possible gas accretion. This premise is supported by our observations of the inner component being primarily composed of old and metal-rich stars. The outer component has a combination of old and intermediate-age stars, with a moderate spread in metallicities. These results are analysed through the lens of'),\n",
       " Document(metadata={'source': 'https://arxiv.org/list/astro-ph.GA/new', 'title': 'Astrophysics of Galaxies  ', 'language': 'en', 'start_index': 4755}, page_content='composed of old and metal-rich stars. The outer component has a combination of old and intermediate-age stars, with a moderate spread in metallicities. These results are analysed through the lens of the two-phase scenario, a framework developed over the years to explain the formation histories of elliptical galaxies.'),\n",
       " Document(metadata={'source': 'https://arxiv.org/list/astro-ph.GA/new', 'title': 'Astrophysics of Galaxies  ', 'language': 'en', 'start_index': 5086}, page_content='[3]\\n\\n        arXiv:2501.09855\\n      \\n      \\n        [pdf, html, other]\\n    \\n\\n\\nTitle:\\n          So long Kolmogorov: the forward and backward turbulence cascades in a supernovae-driven, multiphase interstellar medium\\n        \\nJames R. Beattie, Anne Noer Kolborg, Enrico Ramirez-Ruiz, Christoph Federrath\\nComments:\\n          Main text 24 pages, 13 figures. Appendix, 6 pages, 7 figures. Submitted to ApJ. Comments welcome\\n        \\nSubjects:\\nAstrophysics of Galaxies (astro-ph.GA); High Energy Astrophysical Phenomena (astro-ph.HE)'),\n",
       " Document(metadata={'source': 'https://arxiv.org/list/astro-ph.GA/new', 'title': 'Astrophysics of Galaxies  ', 'language': 'en', 'start_index': 5634}, page_content='The interstellar medium (ISM) of disk galaxies is turbulent, and yet the fundamental nature of ISM turbulence, the energy cascade, is not understood in detail. In this study, we use high-resolution simulations of a hydrodynamical, gravitationally stratified, supernova (SNe)-driven, multiphase ISM to probe the nature of a galactic turbulence cascade. Through the use of kinetic energy flux transfer functions split into interactions between compressible $\\\\mathbf{u}_c$ and incompressible $\\\\mathbf{u}_s$ modes, we show that there exists a large-to-small-scale cascade in both $\\\\mathbf{u}_c$ and $\\\\mathbf{u}_s$ when mediated by an additional $\\\\mathbf{u}_s$ mode. But the $\\\\mathbf{u}_s$ cascade is highly non-local. Moreover, there is a $\\\\mathbf{u}_c$ mediated component of the $\\\\mathbf{u}_s$ cascade that proceeds in the opposite direction -- an inverse cascade from small-to-large scales. The cascade feeds flux into scales well beyond the scale height, energizing the winds and fueling'),\n",
       " Document(metadata={'source': 'https://arxiv.org/list/astro-ph.GA/new', 'title': 'Astrophysics of Galaxies  ', 'language': 'en', 'start_index': 6425}, page_content='cascade that proceeds in the opposite direction -- an inverse cascade from small-to-large scales. The cascade feeds flux into scales well beyond the scale height, energizing the winds and fueling the direct cascades. Both the strongly non-local and the inverse $\\\\mathbf{u}_s$ cascades happen on scales that have a power law $\\\\mathbf{u}_s$ energy spectrum, highlighting how degenerate the spectrum is to the true underlying physical processes. We directly show that the inverse cascade comes from $\\\\mathbf{u}_s$ modes interacting with expanding SNe remnants (SNRs) and that $\\\\mathbf{u}_s$ modes are generated to leading order via baroclinic, highly corrugated cooling layers between warm $(T\\\\lesssim 10^4\\\\,\\\\rm{K})$ and hot $(T\\\\gg10^4\\\\,\\\\rm{K})$ gas in these SNRs. Finally, we outline a complete phenomenology for SNe-driven turbulence in a galactic disk, estimate a $10^{-16}\\\\,\\\\rm{G}$ Biermann field generated from SNR cooling layers, and highlight the strong deviations that SNe-driven turbulence has'),\n",
       " Document(metadata={'source': 'https://arxiv.org/list/astro-ph.GA/new', 'title': 'Astrophysics of Galaxies  ', 'language': 'en', 'start_index': 7232}, page_content='for SNe-driven turbulence in a galactic disk, estimate a $10^{-16}\\\\,\\\\rm{G}$ Biermann field generated from SNR cooling layers, and highlight the strong deviations that SNe-driven turbulence has from the conventional Kolmogorov model.'),\n",
       " Document(metadata={'source': 'https://arxiv.org/list/astro-ph.GA/new', 'title': 'Astrophysics of Galaxies  ', 'language': 'en', 'start_index': 7477}, page_content='[4]\\n\\n        arXiv:2501.09883\\n      \\n      \\n        [pdf, html, other]\\n    \\n\\n\\nTitle:\\n          Identification of 4876 Bent-Tail Radio Galaxies in the FIRST Survey Using Deep Learning Combined with Visual Inspection\\n        \\nBaoqiang Lao, Heinz Andernach, Xiaolong Yang, Xiang Zhang, Rushuang Zhao, Zhen Zhao, Yun Yu, Xiaohui Sun, Sheng-Li Qin\\nComments:\\n          25 pages, 11 figures, 3 tables, accepted for publication in ApJS\\n        \\nJournal-ref:\\n          ApJS 276, 46 (2025)\\n        \\nSubjects:\\nAstrophysics of Galaxies (astro-ph.GA); Instrumentation and Methods for Astrophysics (astro-ph.IM)'),\n",
       " Document(metadata={'source': 'https://arxiv.org/list/astro-ph.GA/new', 'title': 'Astrophysics of Galaxies  ', 'language': 'en', 'start_index': 8095}, page_content='Bent-tail radio galaxies (BTRGs) are characterized by bent radio lobes. This unique shape is mainly caused by the movement of the galaxy within a cluster, during which the radio jets are deflected by the intra-cluster medium. A combined method, which involves a deep learning-based radio source finder along with visual inspection, has been utilized to search for BTRGs from the Faint Images of the Radio Sky at Twenty-centimeters survey images. Consequently, a catalog of 4876 BTRGs has been constructed, among which 3871 are newly discovered. Based on the classification scheme of the opening angle between the two jets of the galaxy, BTRGs are typically classified as either wide-angle-tail (WAT) sources or narrow-angle-tail (NAT) sources. Our catalog comprises 4424 WATs and 652 NATs. Among these, optical counterparts are identified for 4193 BTRGs. This catalog covers luminosities in the range of $1.91\\\\times10^{20} \\\\leq L_{\\\\rm 1.4\\\\,GHz} \\\\leq 1.45\\\\times10^{28}$ ${\\\\rm W\\\\,Hz^{-1}}$'),\n",
       " Document(metadata={'source': 'https://arxiv.org/list/astro-ph.GA/new', 'title': 'Astrophysics of Galaxies  ', 'language': 'en', 'start_index': 8885}, page_content='Among these, optical counterparts are identified for 4193 BTRGs. This catalog covers luminosities in the range of $1.91\\\\times10^{20} \\\\leq L_{\\\\rm 1.4\\\\,GHz} \\\\leq 1.45\\\\times10^{28}$ ${\\\\rm W\\\\,Hz^{-1}}$ and redshifts from $z = 0.0023$ to $z = 3.43$. Various physical properties of these BTRGs and their statistics are presented. Particularly, by the nearest neighbor method, we found that 1825 BTRGs in this catalog belong to galaxy clusters reported in literature.'),\n",
       " Document(metadata={'source': 'https://arxiv.org/list/astro-ph.GA/new', 'title': 'Astrophysics of Galaxies  ', 'language': 'en', 'start_index': 9358}, page_content='[5]\\n\\n        arXiv:2501.09953\\n      \\n      \\n        [pdf, html, other]\\n    \\n\\n\\nTitle:\\n          Elliptical (E) and ellicular (ES) galaxies in the M_bh-M_*,sph diagram, and a merger-driven explanation for the origin of ES galaxies, anti-truncated stellar discs in lenticular galaxies, and the Sersicification of E galaxy light profiles\\n        \\nAlister W. Graham\\nJournal-ref:\\n          MNRAS (2024) v.535, p.299\\n        \\nSubjects:\\nAstrophysics of Galaxies (astro-ph.GA)'),\n",
       " Document(metadata={'source': 'https://arxiv.org/list/astro-ph.GA/new', 'title': 'Astrophysics of Galaxies  ', 'language': 'en', 'start_index': 9838}, page_content=\"In a recent series of papers, supermassive black holes were used to discern pathways in galaxy evolution. By considering the black holes' coupling with their host galaxy's bulge/spheroid, the progression of mass within each component has shed light on the chronological sequence of galaxy speciation. Offsets between the galaxy-morphology-dependent M_bh-M_*,sph scaling relations trace a pattern of 'punctuated equilibrium' arising from merger-driven transitions between galaxy types, such as from spirals to dust-rich lenticulars and further to `ellicular' and elliptical galaxies. This study delves deeper into the distinction between the ellicular galaxies - characterised by their intermediate-scale discs - and elliptical galaxies. Along the way, it is shown how some anti-truncated large-scale discs in lenticular galaxies can arise from the coexistence of a steep intermediate-scale disc and a relatively shallow large-scale disc. This observation undermines application of the\"),\n",
       " Document(metadata={'source': 'https://arxiv.org/list/astro-ph.GA/new', 'title': 'Astrophysics of Galaxies  ', 'language': 'en', 'start_index': 10626}, page_content='large-scale discs in lenticular galaxies can arise from the coexistence of a steep intermediate-scale disc and a relatively shallow large-scale disc. This observation undermines application of the popular exponential-disc plus Sérsic-bulge model for lenticular galaxies and suggests some past bulge mass measurements have been overestimated. Furthermore, it is discussed how merger-driven disc-heating and blending likely leads to the spheroidalisation of discs and the conglomeration of multiple discs leads to the (high n) Sersicification of light profiles. The ellicular and elliptical galaxy distribution in the $M_{\\\\rm bh}$-$M_{\\\\rm\\\\star,sph}$ diagram is explored relative to major-merger-built lenticular galaxies and brightest cluster galaxies. The (super-)quadratic $M_{\\\\rm bh}$-$M_{\\\\rm\\\\star}$ relations, presented herein, for merger-built systems should aid studies of massive black hole collisions and the gravitational wave background. Finally, connections to dwarf compact elliptical and'),\n",
       " Document(metadata={'source': 'https://arxiv.org/list/astro-ph.GA/new', 'title': 'Astrophysics of Galaxies  ', 'language': 'en', 'start_index': 11427}, page_content='relations, presented herein, for merger-built systems should aid studies of massive black hole collisions and the gravitational wave background. Finally, connections to dwarf compact elliptical and ultra-compact dwarf galaxies, with their 100-1000 times higher $M_{\\\\rm bh}/M_{\\\\rm\\\\star,sph}$ ratios, are presented.'),\n",
       " Document(metadata={'source': 'https://arxiv.org/list/astro-ph.GA/new', 'title': 'Astrophysics of Galaxies  ', 'language': 'en', 'start_index': 11753}, page_content=\"[6]\\n\\n        arXiv:2501.10047\\n      \\n      \\n        [pdf, html, other]\\n    \\n\\n\\nTitle:\\n          The role of dry mergers in shaping the scaling relations of galaxies\\n        \\nMauro D'Onofrio, Cesare Chiosi, Francesco Brevi\\nComments:\\n          20 pages, 18 figures\\n        \\nSubjects:\\nAstrophysics of Galaxies (astro-ph.GA)\"),\n",
       " Document(metadata={'source': 'https://arxiv.org/list/astro-ph.GA/new', 'title': 'Astrophysics of Galaxies  ', 'language': 'en', 'start_index': 12085}, page_content='In the context of the hierarchical formation of galaxies, we investigated the role played by mergers in shaping the scaling relations of galaxies, that is the projections of their Fundamental Plane onto the Ie-Re, Ie-Sigma, Ms-Re and L-Sigma planes. To this aim, based on the scalar Virial Theorem, we developed a simple theory of multiple dry mergers to read both the large scale simulations and the companion scaling relations. The aim was to compare the results of this approach with the observational data and with two of the most recent and detailed numerical cosmo-hydro-dynamical simulations, that is Illustris-TNG and EAGLE (Evolution and Assembly of GaLaxies and their Environments). We derived the above scaling relations for the galaxies of the MaNGA (Mapping Nearby Galaxies at APO) and WINGS (Wide-field Imaging of Nearby Galaxy-Clusters Survey) databases and compared them with the observational data, the numerical simulations, and the results of our simple theory of dry'),\n",
       " Document(metadata={'source': 'https://arxiv.org/list/astro-ph.GA/new', 'title': 'Astrophysics of Galaxies  ', 'language': 'en', 'start_index': 12872}, page_content='at APO) and WINGS (Wide-field Imaging of Nearby Galaxy-Clusters Survey) databases and compared them with the observational data, the numerical simulations, and the results of our simple theory of dry mergers. The multiple dry merging mechanism is able to explain all the main characteristics of the observed scaling relations of galaxies, such as slopes, scatters, curvatures and zones of exclusion. The distribution of galaxies in these planes is continuously changing across time because of the merging activity and other physical processes, such as star formation, quenching, energy feedback, and so forth. The simple merger theory presented here yields the correct distribution of galaxies in the main scaling relations at all cosmic epochs. The precision is comparable with that obtained by the modern cosmo-hydro-dynamical simulations, with the advantage of providing a rapid exploratory response on the consequences engendered by different physical effects.'),\n",
       " Document(metadata={'source': 'https://arxiv.org/list/astro-ph.GA/new', 'title': 'Astrophysics of Galaxies  ', 'language': 'en', 'start_index': 13849}, page_content='[7]\\n\\n        arXiv:2501.10280\\n      \\n      \\n        [pdf, html, other]'),\n",
       " Document(metadata={'source': 'https://arxiv.org/list/astro-ph.GA/new', 'title': 'Astrophysics of Galaxies  ', 'language': 'en', 'start_index': 13927}, page_content='Title:\\n          Evidence for the gravity-driven and magnetically-regularized gas flows feeding the massive protostellar cluster in Cep A'),\n",
       " Document(metadata={'source': 'https://arxiv.org/list/astro-ph.GA/new', 'title': 'Astrophysics of Galaxies  ', 'language': 'en', 'start_index': 14074}, page_content=\"Panigrahy Sandhyarani (1), Chakali Eswaraiah (1), Enrique Vázquez-Semadeni (2), Gilberto C. Gómez (2), Travis J. Thieme (3), Manash R. Samal (4), Di Li (5), Jia-Wei Wang (3, 6), Shih-Ping Lai (7), Wen-Ping Chen (8), D. K. Ojha (9) ((1) Department of Physics, Indian Institute of Science Education and Research Tirupati, Yerpedu, Tirupati, Andhra Pradesh, India (2) Instituto de Radioastronomía y Astrofísica, Universidad Nacional Autónoma de México, Morelia, Michoacán, Mexico (3) Academia Sinica Institute of Astronomy \\\\&amp; Astrophysics, AS/NTU, Taipei, Taiwan (4) Physical Research Laboratory (PRL), Navrangpura, Ahmedabad, Gujarat, India (5) CAS Key Laboratory of FAST, National Astronomical Observatories, Chinese Academy of Sciences, Chaoyang District, Beijing, People's Republic of China (6) East Asian Observatory, University Park, Hilo, HI, USA (7) Institute of Astronomy and Department of Physics, National Tsing Hua University, Hsinchu, Taiwan (8) Institute of Astronomy, National\"),\n",
       " Document(metadata={'source': 'https://arxiv.org/list/astro-ph.GA/new', 'title': 'Astrophysics of Galaxies  ', 'language': 'en', 'start_index': 14870}, page_content='(6) East Asian Observatory, University Park, Hilo, HI, USA (7) Institute of Astronomy and Department of Physics, National Tsing Hua University, Hsinchu, Taiwan (8) Institute of Astronomy, National Central University, Taoyuan, Taiwan (9) Department of Astronomy and Astrophysics, Tata Institute of Fundamental Research, Mumbai, India)'),\n",
       " Document(metadata={'source': 'https://arxiv.org/list/astro-ph.GA/new', 'title': 'Astrophysics of Galaxies  ', 'language': 'en', 'start_index': 15204}, page_content='Comments:\\n          33 pages, 6 figures in the main text and 8 figures in the supplementary material, Submitted, and comments are welcome\\n        \\nSubjects:\\nAstrophysics of Galaxies (astro-ph.GA)'),\n",
       " Document(metadata={'source': 'https://arxiv.org/list/astro-ph.GA/new', 'title': 'Astrophysics of Galaxies  ', 'language': 'en', 'start_index': 15412}, page_content='The hierarchical interplay among gravity, magnetic fields, and turbulent gas flows in delivering the necessary material to form massive protostellar clusters remains enigmatic. We have performed high-resolution (beam size $\\\\sim$14 arcsec $\\\\simeq$ 0.05 pc at a distance 725 pc) 850 $\\\\mu$m dust polarization and C$^{18}$O molecular line observations of Cepheus A (Cep A), the second closest massive star-forming region, using the 15-meter James Clerk Maxwell Telescope (JCMT) along with the SCUBA-2/POL-2 and HARP instruments. Our key analyses reveal that (i) morphologically, all three fields--gravitational (G), magnetic (B), and kinetic (K) fields--are aligned with each other, and (ii) energetically, they exhibit a hierarchical relationship with gravitational ($E_{\\\\mathrm{G}}$) > magnetic ($E_{\\\\mathrm{B}}$) > kinetic ($E_{\\\\mathrm{K}}$). Gravity dominates in Cep A clump and, as a primary active player, dictates the other two agents. Consequently, gravity plays two active roles: (i)'),\n",
       " Document(metadata={'source': 'https://arxiv.org/list/astro-ph.GA/new', 'title': 'Astrophysics of Galaxies  ', 'language': 'en', 'start_index': 16205}, page_content='($E_{\\\\mathrm{B}}$) > kinetic ($E_{\\\\mathrm{K}}$). Gravity dominates in Cep A clump and, as a primary active player, dictates the other two agents. Consequently, gravity plays two active roles: (i) induces gas flows and (ii) drags B-field lines toward the gravitational trough. Since magnetic energy dominates kinetic energy, $E_{\\\\mathrm{B}}$ > $E_{\\\\mathrm{K}}$, the \"dragged-in\" B-field as a secondary active player can mitigate turbulence and instabilities, thereby regularizing gas flows into a more ordered configuration. At the $\\\\sim$0.60 pc clump scale, these flows deliver material at a substantially high rate of $\\\\sim$ 2.1$\\\\times$10$^{-4}$ M$_{\\\\odot}$ yr$^{-1}$ toward the cluster center. Our study, for the first time, presents new insights into how B-fields and turbulent gas flows passively assist the active role of gravity in the formation of a protostellar cluster, contrasting with the standard notion that these agents primarily oppose gravitational collapse.'),\n",
       " Document(metadata={'source': 'https://arxiv.org/list/astro-ph.GA/new', 'title': 'Astrophysics of Galaxies  ', 'language': 'en', 'start_index': 17192}, page_content='[8]\\n\\n        arXiv:2501.10352\\n      \\n      \\n        [pdf, html, other]\\n    \\n\\n\\nTitle:\\n          I Zw 1 and H0557-385: The Dusty Tori of Two High Eddington AGNs Observed in the MATISSE LM-Bands\\n        \\nFarin Drewes, James H. Leftley, Sebastian F. Hönig, Konrad W. Tristram, Makoto Kishimoto\\nComments:\\n          16 pages, 15 figures, 5 tables. Accepted for publication in MNRAS\\n        \\nSubjects:\\nAstrophysics of Galaxies (astro-ph.GA)'),\n",
       " Document(metadata={'source': 'https://arxiv.org/list/astro-ph.GA/new', 'title': 'Astrophysics of Galaxies  ', 'language': 'en', 'start_index': 17638}, page_content='The torus in Active Galactic Nuclei (AGN) is a complex dynamical structure of gas and dust. It is thought to be composed of an equatorial dusty disk and a polar dusty wind launched by radiation pressure. However, this picture is based on studies of moderately accreting AGN. Models suggest that the disk/wind structure will change with specific accretion rate. Here we examine the wind launching region in two high accretion rate objects, I Zw 1 (super-Eddington) and H0557-385 (high-Eddington), using high spatial resolution interferometric observations in the $K$-band from VLTI/GRAVITY and $LM$-bands VLTI/MATISSE. We recover wavelength-dependent sizes of the dust emission using a Gaussian and power law fit to the visibilities. Both objects are partially resolved and have radial sizes in the $KLM$-bands between 0.3 - 1.5 mas, with no signs of elongation. Combining our measurements with VLTI/MIDI $N$-band data gives a full multi-wavelength picture of the dust structure. We find'),\n",
       " Document(metadata={'source': 'https://arxiv.org/list/astro-ph.GA/new', 'title': 'Astrophysics of Galaxies  ', 'language': 'en', 'start_index': 18429}, page_content='in the $KLM$-bands between 0.3 - 1.5 mas, with no signs of elongation. Combining our measurements with VLTI/MIDI $N$-band data gives a full multi-wavelength picture of the dust structure. We find that in H0557-385, the dust sizes between $3.5-8\\\\:\\\\mu\\\\mathrm{m}$ are independent of the wavelength, roughly constant at $3-10$ sublimation radii. We argue that this indicates a direct view of the wind launching region and, together with an absence of polar elongation, this implies that any wind would be launched in a preferentially equatorial direction or blown out by strong radiation pressure. The size-wavelength relation for both objects shows a preferentially disky equatorial dust distribution. We conclude that there is strong evidence that the Eddington ratio shapes the inner dust structure, most notably the wind-launching region and wind direction.'),\n",
       " Document(metadata={'source': 'https://arxiv.org/list/astro-ph.GA/new', 'title': 'Astrophysics of Galaxies  ', 'language': 'en', 'start_index': 19300}, page_content='Cross submissions (showing 6 of 6 entries)\\n\\n[9]\\n\\n        arXiv:2501.09780\\n      \\n          (cross-list from astro-ph.SR)\\n\\n        [pdf, html, other]\\n    \\n\\n\\nTitle:\\n          MUSE observations of V1425 Aql reveal an arc-shaped nova shell\\n        \\nL. Celedón, C. Tappert, L. Schmidtobreick, F. Selman\\nComments:\\n          11 pages, 7 figures, appendix consisting of 2 figures. Acepted for publication in A&A\\n        \\nSubjects:\\nSolar and Stellar Astrophysics (astro-ph.SR); Astrophysics of Galaxies (astro-ph.GA)'),\n",
       " Document(metadata={'source': 'https://arxiv.org/list/astro-ph.GA/new', 'title': 'Astrophysics of Galaxies  ', 'language': 'en', 'start_index': 19828}, page_content='Nova shells are the remnants of a nova eruption in a cataclysmic variable system. By studying their geometry we can better understand the physical mechanisms that shape them during the nova eruption. A nova shell that challenges our current understanding of these processes is the shell observed around V1425 Aql. It has at least two different components: an inner and symmetric shell, and an outer and asymmetric shell, with the latter expanding faster than the former. The physical reason behind the asymmetric ejecta is not clear. We aim to characterize the properties and differences between these two components to understand the origin behind the unusual shape. We acquired MUSE data to study the spatial position and kinematics of the expanding gas across the shell. Our analysis includes channel maps, position-velocity diagrams, and the reconstruction of the 3D geometry of the nova shell. Several emission lines are detected within the MUSE wavelength coverage, including but not'),\n",
       " Document(metadata={'source': 'https://arxiv.org/list/astro-ph.GA/new', 'title': 'Astrophysics of Galaxies  ', 'language': 'en', 'start_index': 20624}, page_content='channel maps, position-velocity diagrams, and the reconstruction of the 3D geometry of the nova shell. Several emission lines are detected within the MUSE wavelength coverage, including but not limited to Balmer, Oxygen, Nitrogen, and Helium lines. There are significant differences in the spectra of the inner and outer shells, with the latter being observed only in forbidden transitions, while the inner shows a mix of forbidden and allowed ones. Our analysis reveals that the outer shell has a geometry consistent with an arc-shaped structure that partially encircles the more spherical inner shell. Within the inner shell, clumpy structures start to be noticeable in the lines of H$\\\\alpha$+[Nii]. We have constrained the geometry of the outer shell to an arc-shaped structure, although the physical reason behind its origin is still eluding us. Further monitoring of the evolution of both shells in this object might help to clarify the mechanism behind this unusual configuration.'),\n",
       " Document(metadata={'source': 'https://arxiv.org/list/astro-ph.GA/new', 'title': 'Astrophysics of Galaxies  ', 'language': 'en', 'start_index': 21623}, page_content='[10]\\n\\n        arXiv:2501.09810\\n      \\n          (cross-list from astro-ph.HE)\\n\\n        [pdf, html, other]\\n    \\n\\n\\nTitle:\\n          The cosmic evolution of FRBs inferred from CHIME/FRB Catalog 1\\n        \\nOm Gupta, Paz Beniamini, Pawan Kumar, Steven L. Finkelstein\\nComments:\\n          28 pages, 10 figures, 3 tables. Submitted to ApJ. Comments welcome\\n        \\nSubjects:\\nHigh Energy Astrophysical Phenomena (astro-ph.HE); Cosmology and Nongalactic Astrophysics (astro-ph.CO); Astrophysics of Galaxies (astro-ph.GA)'),\n",
       " Document(metadata={'source': 'https://arxiv.org/list/astro-ph.GA/new', 'title': 'Astrophysics of Galaxies  ', 'language': 'en', 'start_index': 22155}, page_content='Redshift and luminosity distributions are essential for understanding the cosmic evolution of extragalactic objects and phenomena, such as galaxies, gamma-ray bursts, and fast radio bursts (FRBs). For FRBs, these distributions are primarily estimated using the fluence and the Dispersion Measure (DM). Calibrating their joint distribution has been challenging due to a lack of accurate fluences in the intensity data of the CHIME/FRB survey. Using the baseband update of CHIME/FRB Catalog 1, we calibrate the 2D fluence-DM distribution for the first time. We find the energy distribution is described well by a Schechter function with power-law slope of $-1.94^{+0.14}_{-0.12}$. Testing two types of redshift evolution models suggests a likely combination of young and old formation channels. $31^{+31}_{-21}$\\\\% of FRB sources may track star formation, or correspondingly, FRB sources may have delay times of $1.94^{+1.54}_{-1.31}$ Gyr. A pure star formation tracking population is'),\n",
       " Document(metadata={'source': 'https://arxiv.org/list/astro-ph.GA/new', 'title': 'Astrophysics of Galaxies  ', 'language': 'en', 'start_index': 22938}, page_content='channels. $31^{+31}_{-21}$\\\\% of FRB sources may track star formation, or correspondingly, FRB sources may have delay times of $1.94^{+1.54}_{-1.31}$ Gyr. A pure star formation tracking population is excluded by only one model at $> 2\\\\sigma$ confidence. An updated cosmic star formation rate density evolution up to redshift 14 is constrained by compiling results from several JWST studies. Using this information, we expect next-generation radio telescopes to detect a few dozen bursts per year at $z \\\\gtrsim 6$. A radio telescope with a system-equivalent flux density of $\\\\leq 1$ Jy (equivalent to a detection threshold of 14 mJy ms) and instantaneous sky coverage of $\\\\gtrsim 200$ square degrees should be able to detect $1.4^{+1.6}_{-1.0}\\\\times 10^3$ FRBs year$^{-1}$ at $z \\\\gtrsim 6$ and $234^{+250}_{-162}$ FRBs year$^{-1}$ at $z\\\\gtrsim 8$, which is sufficient to differentiate between reionization histories.'),\n",
       " Document(metadata={'source': 'https://arxiv.org/list/astro-ph.GA/new', 'title': 'Astrophysics of Galaxies  ', 'language': 'en', 'start_index': 23865}, page_content='[11]\\n\\n        arXiv:2501.09816\\n      \\n          (cross-list from astro-ph.IM)\\n\\n        [pdf, html, other]\\n    \\n\\n\\nTitle:\\n          Galaxy Morphological Classification with Zernike Moments and Machine Learning Approaches\\n        \\nHamed Ghaderi, Nasibe Alipour, Hossein Safari\\nComments:\\n          23 pages, 15, figures, The Astrophysical Journal Supplement Series\\n        \\nSubjects:\\nInstrumentation and Methods for Astrophysics (astro-ph.IM); Astrophysics of Galaxies (astro-ph.GA)'),\n",
       " Document(metadata={'source': 'https://arxiv.org/list/astro-ph.GA/new', 'title': 'Astrophysics of Galaxies  ', 'language': 'en', 'start_index': 24364}, page_content=\"Classifying galaxies is an essential step for studying their structures and dynamics. Using GalaxyZoo2 (GZ2) fractions thresholds, we collect 545 and 11,735 samples in non-galaxy and galaxy classes, respectively. We compute the Zernike moments (ZMs) for GZ2 images, extracting unique and independent characteristics of galaxies. The uniqueness due to the orthogonality and completeness of Zernike polynomials, reconstruction of the original images with minimum errors, invariances (rotation, translation, and scaling), different block structures, and discriminant decision boundaries of ZMs' probability density functions for different order numbers indicate the capability of ZMs in describing galaxy features. We classify the GZ2 samples, firstly into the galaxies and non-galaxies and secondly, galaxies into spiral, elliptical, and odd objects (e.g., ring, lens, disturbed, irregular, merger, and dust lane). The two models include the support vector machine (SVM) and one-dimensional\"),\n",
       " Document(metadata={'source': 'https://arxiv.org/list/astro-ph.GA/new', 'title': 'Astrophysics of Galaxies  ', 'language': 'en', 'start_index': 25162}, page_content='galaxies into spiral, elliptical, and odd objects (e.g., ring, lens, disturbed, irregular, merger, and dust lane). The two models include the support vector machine (SVM) and one-dimensional convolutional neural network (1D-CNN), which use ZMs, compared with the other three classification models of 2D-CNN, ResNet50, and VGG16 that apply the features from original images. We find the true skill statistic (TSS) greater than 0.86 for the SVM and 1D-CNN with ZMs for the oversampled galaxy-non-galaxy classifier. The SVM with ZMs model has a high-performance classification for galaxy and non-galaxy datasets. We show that the SVM with ZMs, 1D-CNN with ZMs, and VGG16 with vision transformer are high-performance (accuracy larger than 0.90 and TSS greater than 0.86) models for classifying the galaxies into spiral, elliptical, and odd objects. We conclude that these machine-learning algorithms are helpful tools for classifying galaxy images.'),\n",
       " Document(metadata={'source': 'https://arxiv.org/list/astro-ph.GA/new', 'title': 'Astrophysics of Galaxies  ', 'language': 'en', 'start_index': 26119}, page_content='[12]\\n\\n        arXiv:2501.09854\\n      \\n          (cross-list from astro-ph.HE)\\n\\n        [pdf, html, other]\\n    \\n\\n\\nTitle:\\n          Chasing the Light: Shadowing, Collimation, and the Super-Eddington Growth of Infant Black Holes in JWST-Discovered AGNs\\n        \\nPiero Madau\\nComments:\\n          13 pages, 8 figures, submitted for publication to the ApJ\\n        \\nSubjects:\\nHigh Energy Astrophysical Phenomena (astro-ph.HE); Astrophysics of Galaxies (astro-ph.GA)'),\n",
       " Document(metadata={'source': 'https://arxiv.org/list/astro-ph.GA/new', 'title': 'Astrophysics of Galaxies  ', 'language': 'en', 'start_index': 26597}, page_content=\"Observations with the James Webb Space Telescope (JWST) have uncovered a substantial population of high-redshift broad-line active galactic nuclei (AGNs) characterized by moderate luminosities, weak X-ray emissions, and faint high-ionization lines, challenging conventional models of black hole growth and AGN activity. In this study, we propose that these sources are accreting at super-Eddington rates and use geometrically thick, non-advective disk models to investigate the critical roles of photon scattering, reflections, and shadowing within funnel-like structures along the disk's rotation axis. Our models predict highly collimated radiation fields, with isotropic-equivalent luminosities vastly exceeding the Eddington limit in polar directions, and significant suppression of emission at higher inclination angles due to shadowing. These effects result in altered spectral energy distributions and pronounced anisotropies in observable properties. Key features include\"),\n",
       " Document(metadata={'source': 'https://arxiv.org/list/astro-ph.GA/new', 'title': 'Astrophysics of Galaxies  ', 'language': 'en', 'start_index': 27381}, page_content='of emission at higher inclination angles due to shadowing. These effects result in altered spectral energy distributions and pronounced anisotropies in observable properties. Key features include ultra-blue UV continuum slopes (alpha=+0.5 to +0.8), bolometric correction factors varying by over an order of magnitude with orientation, and suppressed coronal X-ray emissions. The anisotropy and shadowing effects may also explain the observed faintness of broad high-ionization emission lines, as the viewing angle strongly modulates both continuum brightness and the illumination of the broad-line region. These findings indicate that super-Eddington accretion flows, shaped by thick disk geometries and anisotropic radiation fields, can naturally account for many puzzling features of JWST-discovered AGNs and provide new insights into black hole growth in the early universe.'),\n",
       " Document(metadata={'source': 'https://arxiv.org/list/astro-ph.GA/new', 'title': 'Astrophysics of Galaxies  ', 'language': 'en', 'start_index': 28271}, page_content='[13]\\n\\n        arXiv:2501.10070\\n      \\n          (cross-list from astro-ph.SR)\\n\\n        [pdf, html, other]'),\n",
       " Document(metadata={'source': 'https://arxiv.org/list/astro-ph.GA/new', 'title': 'Astrophysics of Galaxies  ', 'language': 'en', 'start_index': 28384}, page_content='Title:\\n          JWST Imaging of the Closest Globular Clusters -- V. The White Dwarfs Cooling Sequence of M4\\n        \\nL. R. Bedin (1), M. Libralato (1), M. Salaris (2), D. Nardiello (1,3), M. Scalco (1,4), M. Griggio (1,4,5), J. Anderson (5), P. Bergeron (6), A. Bellini (5), R. Gerasimov (7), A. J. Burgasser (8), D. Apai (9) ((1) INAF-OAPD, (2) <a href=\"http://J.M.Univ.Liverpool\" rel=\"external noopener nofollow\" class=\"link-external link-http\">this http URL</a>-UK, (3) <a href=\"http://Univ.PD\" rel=\"external noopener nofollow\" class=\"link-external link-http\">this http URL</a>, (4) Univ. Ferrara, (5) STScI, (6) <a href=\"http://Uni.Montreal\" rel=\"external noopener nofollow\" class=\"link-external link-http\">this http URL</a>-Canada, (7) Univ. Notre Dame IN-USA, (8) UC SanDiego-USA, and (9) UniAZ Tucson-USA)\\nComments:\\n          13 pages, 7 figures. Accepted for publication on Astronomische Nachrichten on 15th Jan 2025. Manuscript ID: ASNA.20240125\\n        \\nSubjects:'),\n",
       " Document(metadata={'source': 'https://arxiv.org/list/astro-ph.GA/new', 'title': 'Astrophysics of Galaxies  ', 'language': 'en', 'start_index': 29198}, page_content='Comments:\\n          13 pages, 7 figures. Accepted for publication on Astronomische Nachrichten on 15th Jan 2025. Manuscript ID: ASNA.20240125\\n        \\nSubjects:\\nSolar and Stellar Astrophysics (astro-ph.SR); Astrophysics of Galaxies (astro-ph.GA)'),\n",
       " Document(metadata={'source': 'https://arxiv.org/list/astro-ph.GA/new', 'title': 'Astrophysics of Galaxies  ', 'language': 'en', 'start_index': 29464}, page_content='We combine infrared (IR) observations collected by the James Webb Space Telescope with optical deep images by the Hubble Space Telescope taken approximately 20 years earlier to compute proper-motion membership for the globular cluster (GC) M 4 (NGC 6121) along its entire white dwarf (WD) cooling sequence (CS). These new IR observations allow us, for only the second time in a GC, to compare WD models with observations over a wide range of wavelengths, constraining fundamental astrophysical properties of WDs. Furthermore, we investigate the presence of WDs with IR excess along the WD CS of M 4, similar to the recent study conducted on the GC NGC 6397. We also determine the age difference between M 4 and NGC 6397 by comparing the absolute F150W2 magnitudes of the luminosity function peak at the bottom of the observed WD CS, and find that M 4 is slightly younger, by 0.8+/-0.5 Gyr.\\n        \\n\\n\\n\\n[14]\\n\\n        arXiv:2501.10092\\n      \\n          (cross-list from astro-ph.SR)'),\n",
       " Document(metadata={'source': 'https://arxiv.org/list/astro-ph.GA/new', 'title': 'Astrophysics of Galaxies  ', 'language': 'en', 'start_index': 30366}, page_content='[14]\\n\\n        arXiv:2501.10092\\n      \\n          (cross-list from astro-ph.SR)\\n\\n        [pdf, html, other]\\n    \\n\\n\\nTitle:\\n          Disk in the circumstellar envelope of carbon Mira V Cygni\\n        \\nBoris S. Safonov, Sergey G. Zheltoukhov, Andrey M. Tatarnikov, Ivan A. Strakhov, Victor I. Shenavrin\\nComments:\\n          Accepted for publication in AJ, 24 pages, 16 figures, 6 tables\\n        \\nSubjects:\\nSolar and Stellar Astrophysics (astro-ph.SR); Astrophysics of Galaxies (astro-ph.GA)'),\n",
       " Document(metadata={'source': 'https://arxiv.org/list/astro-ph.GA/new', 'title': 'Astrophysics of Galaxies  ', 'language': 'en', 'start_index': 30871}, page_content='AGB stars are the primary source of dust and complex molecules in the interstellar medium. The determination of outflow parameters is often hindered by the unknown geometry of the circumstellar environment, creating a demand for high-angular resolution observations. We use our NIR spectra and photometry of the carbon AGB star V Cyg, along with literature data, to construct its SED over a wide range of wavelengths. The dust envelope responsible for the IR excess was also resolved in scattered polarized light at angular scales of 50-80 mas using differential speckle polarimetry. We present an interpretation of the thermal and scattered radiation of the dust using models of a spherical dusty outflow (Mdust = 5.3e-7 M_sun) and an inclined equatorial density enhancement, either in the form of a disk (Mdust = 7.6e-3 M_earth) or a torus (Mdust = 5.7e-3 M_earth), which material is concentrated at stellocentric distances less than 25 AU. The dust material consists of amorphous carbon'),\n",
       " Document(metadata={'source': 'https://arxiv.org/list/astro-ph.GA/new', 'title': 'Astrophysics of Galaxies  ', 'language': 'en', 'start_index': 31662}, page_content='form of a disk (Mdust = 7.6e-3 M_earth) or a torus (Mdust = 5.7e-3 M_earth), which material is concentrated at stellocentric distances less than 25 AU. The dust material consists of amorphous carbon and SiC, with 84% of the dust being amorphous carbon. Dust particle radii range from 5 to 950 nm and follow a power law with an exponent of -3.5. Modeling of the envelope allowed us to improve the accuracy of stellar luminosity estimations: 21000 L_sun and 8300 L_sun at maximum and minimum brightness, respectively. The relation between the disk and the high water content in the envelope is also discussed.'),\n",
       " Document(metadata={'source': 'https://arxiv.org/list/astro-ph.GA/new', 'title': 'Astrophysics of Galaxies  ', 'language': 'en', 'start_index': 32283}, page_content='Replacement submissions (showing 12 of 12 entries)\\n\\n[15]\\n\\n        arXiv:2310.17036\\n      \\n          (replaced)\\n\\n        [pdf, html, other]\\n    \\n\\n\\nTitle:\\n          Fundamental MHD scales -- II: the kinematic phase of the supersonic small-scale dynamo\\n        \\nNeco Kriel, James R. Beattie, Christoph Federrath, Mark R. Krumholz, Justin Kin Jun Hew\\nComments:\\n          30 pages, 15 figures, submitted to MNRAS, json-file w/ data\\n        \\nSubjects:\\nAstrophysics of Galaxies (astro-ph.GA); High Energy Astrophysical Phenomena (astro-ph.HE); Fluid Dynamics (physics.flu-dyn); Plasma Physics (physics.plasm-ph)'),\n",
       " Document(metadata={'source': 'https://arxiv.org/list/astro-ph.GA/new', 'title': 'Astrophysics of Galaxies  ', 'language': 'en', 'start_index': 32908}, page_content='Many astrophysical small-scale dynamos (SSDs) amplify weak magnetic fields via highly compressible, supersonic turbulence, but established SSD theories have overlooked these compressible effects. To address this, we perform visco-resistive SSD simulations across a range of sonic Mach numbers ($\\\\mathcal{M}$), hydrodynamic Reynolds numbers ($\\\\mathrm{Re}$), and magnetic Prandtl numbers ($\\\\mathrm{Pm}$). We develop robust methods to measure kinetic and magnetic energy dissipation scales ($\\\\ell_\\\\nu$ and $\\\\ell_\\\\eta$) and the scale of strongest magnetic fields ($\\\\ell_\\\\mathrm{p}$) during the kinematic phase. We demonstrate that $\\\\ell_\\\\nu/\\\\ell_\\\\eta \\\\sim \\\\mathrm{Pm}^{1/2}$ is a universal feature for $\\\\mathrm{Pm} \\\\geq 1$ SSDs, regardless of $\\\\mathcal{M}$ or $\\\\mathrm{Re}$. Incompressible SSDs (either $\\\\mathcal{M} \\\\leq 1$ or $\\\\mathrm{Re} < \\\\mathrm{Re}\\\\mathrm{crit} \\\\approx 100$) concentrate magnetic energy at $\\\\ell_\\\\mathrm{p} \\\\sim \\\\ell_\\\\eta$ with inversely correlated field strength and'),\n",
       " Document(metadata={'source': 'https://arxiv.org/list/astro-ph.GA/new', 'title': 'Astrophysics of Galaxies  ', 'language': 'en', 'start_index': 33694}, page_content='SSDs (either $\\\\mathcal{M} \\\\leq 1$ or $\\\\mathrm{Re} < \\\\mathrm{Re}\\\\mathrm{crit} \\\\approx 100$) concentrate magnetic energy at $\\\\ell_\\\\mathrm{p} \\\\sim \\\\ell_\\\\eta$ with inversely correlated field strength and curvature. However, for compressible SSDs ($\\\\mathcal{M} > 1$ and $\\\\mathrm{Re} > \\\\mathrm{Re}\\\\mathrm{crit}$), shocks concentrate magnetic energy in large structures with $\\\\ell_\\\\mathrm{p} \\\\sim (\\\\ell_\\\\mathrm{turb} / \\\\ell_\\\\mathrm{shock})^{1/3} \\\\ell_\\\\eta \\\\gg \\\\ell_\\\\eta$, where $\\\\ell_\\\\mathrm{shock}$ is the characteristic shock width, and $\\\\ell_\\\\mathrm{turb}$ is the outer scale of the turbulent field. In this regime, magnetic field-line curvature becomes nearly independent of field strength. These results have implications for galaxy mergers and cosmic ray transport models in the interstellar medium.'),\n",
       " Document(metadata={'source': 'https://arxiv.org/list/astro-ph.GA/new', 'title': 'Astrophysics of Galaxies  ', 'language': 'en', 'start_index': 34505}, page_content='[16]\\n\\n        arXiv:2311.09089\\n      \\n          (replaced)\\n\\n        [pdf, html, other]\\n    \\n\\n\\nTitle:\\n          Mass and wind luminosity of young Galactic open clusters in Gaia DR2\\n        \\nSilvia Celli, Andreas Specovius, Stefano Menchiari, Alison Mitchell, Giovanni Morlino\\nComments:\\n          Accepted for publication in A&A\\n        \\nJournal-ref:\\n          A&A 686, A118 (2024)\\n        \\nSubjects:\\nAstrophysics of Galaxies (astro-ph.GA); Solar and Stellar Astrophysics (astro-ph.SR); High Energy Physics - Phenomenology (hep-ph)'),\n",
       " Document(metadata={'source': 'https://arxiv.org/list/astro-ph.GA/new', 'title': 'Astrophysics of Galaxies  ', 'language': 'en', 'start_index': 35055}, page_content='Context. Star clusters constitute a significant part of the stellar population in our Galaxy. The feedback processes they exert on the interstellar medium impact multiple physical processes from the chemical to the dynamical evolution of the Galaxy. In addition, young and massive stellar clusters might act as efficient particle accelerators and contribute to the production of cosmic rays. Aims. We aim at evaluating the wind luminosity driven by the young (< 30 Myr) Galactic open stellar clusters observed by the Gaia space mission. This is crucial for determining the energy channeled into accelerated particles. Methods. To do this, we developed a method relying on the number, magnitude, and line-of-sight extinction of the stars observed per cluster. Assuming that the stellar mass function follows a Kroupa mass distribution and accounting for the maximum stellar mass allowed by the age and mass of the parent cluster, we conservatively estimated the mass and wind luminosity of'),\n",
       " Document(metadata={'source': 'https://arxiv.org/list/astro-ph.GA/new', 'title': 'Astrophysics of Galaxies  ', 'language': 'en', 'start_index': 35845}, page_content='function follows a Kroupa mass distribution and accounting for the maximum stellar mass allowed by the age and mass of the parent cluster, we conservatively estimated the mass and wind luminosity of 387 local clusters within the second data release of Gaia. Results. We compared the results of our computation with recent estimates of young cluster masses. With respect to these, our sample is three times more abundant, particularly above a few thousand solar masses. This is of the utmost relevance for predicting the gamma-ray emission resulting from the interaction of accelerated particles. The cluster wind luminosity distribution we obtained extends up to 3x10^38 erg/s. This is a promising feature in terms of potential particle acceleration scenarios.'),\n",
       " Document(metadata={'source': 'https://arxiv.org/list/astro-ph.GA/new', 'title': 'Astrophysics of Galaxies  ', 'language': 'en', 'start_index': 36618}, page_content='[17]\\n\\n        arXiv:2402.03419\\n      \\n          (replaced)\\n\\n        [pdf, html, other]\\n    \\n\\n\\nTitle:\\n          Cold Gas Subgrid Model (CGSM): A Two-Fluid Framework for Modeling Unresolved Cold Gas in Galaxy Simulations\\n        \\nIryna S. Butsky, Cameron B. Hummels, Philip F. Hopkins, Thomas R. Quinn, Jessica K. Werk\\nComments:\\n          accepted by MNRAS\\n        \\nSubjects:\\nAstrophysics of Galaxies (astro-ph.GA)'),\n",
       " Document(metadata={'source': 'https://arxiv.org/list/astro-ph.GA/new', 'title': 'Astrophysics of Galaxies  ', 'language': 'en', 'start_index': 37043}, page_content=\"The cold ($\\\\sim 10^{4}\\\\,{\\\\rm K}$) component of the circumgalactic medium (CGM) accounts for a significant fraction of all galactic baryons. However, using current galaxy-scale simulations to determine the origin and evolution of cold CGM gas poses a significant challenge, since it is computationally infeasible to directly simulate a galactic halo alongside the sub-pc scales that are crucial for understanding the interactions between cold CGM gas and the surrounding ''hot'' medium. In this work, we introduce a new approach: the Cold Gas Subgrid Model (CGSM), which models unresolved cold gas as a second fluid in addition to the standard ''normal'' gas fluid. The CGSM tracks the total mass density and bulk momentum of unresolved cold gas, deriving the properties of its unresolved cloudlets from the resolved gas phase. The interactions between the subgrid cold fluid and the resolved fluid are modeled by prescriptions from high-resolution simulations of ''cloud crushing'' and\"),\n",
       " Document(metadata={'source': 'https://arxiv.org/list/astro-ph.GA/new', 'title': 'Astrophysics of Galaxies  ', 'language': 'en', 'start_index': 37831}, page_content=\"cloudlets from the resolved gas phase. The interactions between the subgrid cold fluid and the resolved fluid are modeled by prescriptions from high-resolution simulations of ''cloud crushing'' and thermal instability. Through a series of idealized tests, we demonstrate the CGSM's ability to overcome the resolution limitations of traditional hydrodynamics simulations, successfully capturing the correct cold gas mass, its spatial distribution, and the timescales for cloud destruction and growth. We discuss the implications of using this model in cosmological simulations to more accurately represent the microphysics that govern the galactic baryon cycle.\"),\n",
       " Document(metadata={'source': 'https://arxiv.org/list/astro-ph.GA/new', 'title': 'Astrophysics of Galaxies  ', 'language': 'en', 'start_index': 38504}, page_content=\"[18]\\n\\n        arXiv:2405.18462\\n      \\n          (replaced)\\n\\n        [pdf, other]\\n    \\n\\n\\nTitle:\\n          Photometric detection at $7.7\\\\ \\\\mu\\\\mathrm{m}$ of a galaxy beyond redshift $14$ with JWST/MIRI\\n        \\nJakob M. Helton, George H. Rieke, Stacey Alberts, Zihao Wu, Daniel J. Eisenstein, Kevin N. Hainline, Stefano Carniani, Zhiyuan Ji, William M. Baker, Rachana Bhatawdekar, Andrew J. Bunker, Phillip A. Cargile, Stéphane Charlot, Jacopo Chevallard, Francesco D'Eugenio, Eiichi Egami, Benjamin D. Johnson, Gareth C. Jones, Jianwei Lyu, Roberto Maiolino, Pablo G. Pérez-González, Marcia J. Rieke, Brant Robertson, Aayush Saxena, Jan Scholtz, Irene Shivaei, Fengwu Sun, Sandro Tacchella, Lily Whitler, Christina C. Williams, Christopher N. A. Willmer, Chris Willott, Joris Witstok, Yongda Zhu\\nComments:\\n          Submitted; main text has 5 pages, 3 figures and 1 table; extended text has 9 pages, 5 figures, and 2 tables\\n        \\nSubjects:\\nAstrophysics of Galaxies (astro-ph.GA)\"),\n",
       " Document(metadata={'source': 'https://arxiv.org/list/astro-ph.GA/new', 'title': 'Astrophysics of Galaxies  ', 'language': 'en', 'start_index': 39496}, page_content='The James Webb Space Telescope (JWST) has spectroscopically confirmed numerous galaxies at $z > 10$. While weak rest-ultraviolet emission lines have only been seen in a handful of sources, the stronger rest-optical emission lines are highly diagnostic and accessible at mid-infrared wavelengths with the Mid-Infrared Instrument (MIRI) of JWST. We report the photometric detection of the distant spectroscopically confirmed galaxy JADES-GS-z14-0 at $z = 14.32^{+0.08}_{-0.20}$ with MIRI at $7.7\\\\ \\\\mu\\\\mathrm{m}$. The most plausible solution for the stellar population properties is that this galaxy contains half a billion solar masses in stars with a strong burst of star formation in the most recent few million years. For this model, at least one-third of the flux at $7.7\\\\ \\\\mu\\\\mathrm{m}$ comes from the rest-optical emission lines $\\\\mathrm{H}\\\\beta$ and/or $\\\\mathrm{[OIII]}\\\\lambda\\\\lambda4959,5007$. The inferred properties of JADES-GS-z14-0 suggest rapid mass assembly and metal'),\n",
       " Document(metadata={'source': 'https://arxiv.org/list/astro-ph.GA/new', 'title': 'Astrophysics of Galaxies  ', 'language': 'en', 'start_index': 40286}, page_content='comes from the rest-optical emission lines $\\\\mathrm{H}\\\\beta$ and/or $\\\\mathrm{[OIII]}\\\\lambda\\\\lambda4959,5007$. The inferred properties of JADES-GS-z14-0 suggest rapid mass assembly and metal enrichment during the earliest phases of galaxy formation. This work demonstrates the unique power of mid-infrared observations in understanding galaxies at the redshift frontier.'),\n",
       " Document(metadata={'source': 'https://arxiv.org/list/astro-ph.GA/new', 'title': 'Astrophysics of Galaxies  ', 'language': 'en', 'start_index': 40668}, page_content='[19]\\n\\n        arXiv:2409.17241\\n      \\n          (replaced)\\n\\n        [pdf, html, other]\\n    \\n\\n\\nTitle:\\n          An H{\\\\alpha} view of galaxy build-up in the first 2 Gyr: luminosity functions at z~4-6.5 from NIRCam/grism spectroscopy\\n        \\nAlba Covelo-Paz, Emma Giovinazzo, Pascal A. Oesch, Romain A. Meyer, Andrea Weibel, Gabriel Brammer, Yoshinobu Fudamoto, Josephine Kerutt, Jamie Lin, Jasleen Matharu, Rohan P. Naidu, Anna Velichko, Victoria Bollo, Rychard Bouwens, John Chisholm, Garth D. Illingworth, Ivan Kramarenko, Daniel Magee, Michael Maseda, Jorryt Matthee, Erica Nelson, Naveen Reddy, Daniel Schaerer, Mauro Stefanon, Mengyuan Xiao\\nComments:\\n          17 pages, 14 figures\\n        \\nSubjects:\\nAstrophysics of Galaxies (astro-ph.GA)'),\n",
       " Document(metadata={'source': 'https://arxiv.org/list/astro-ph.GA/new', 'title': 'Astrophysics of Galaxies  ', 'language': 'en', 'start_index': 41424}, page_content=\"The H{\\\\alpha} nebular emission line is an optimal tracer for recent star formation in galaxies. With the advent of JWST, this line has recently become observable at z>3 for the first time. We present a catalog of 1013 H{\\\\alpha} emitters at 3.7<z<6.7 in the GOODS fields obtained from a blind search in JWST NIRCam/grism data. We make use of the FRESCO survey's 124 arcmin^2 of observations in GOODS-North and GOODS-South with the F444W filter, probing H{\\\\alpha} at 4.9<z<6.7; and the CONGRESS survey's 62 arcmin^2 in GOODS-North with F356W, probing H{\\\\alpha} at 3.8<z<5.1. We find an overdensity with 97 sources at z~4.4 in GOODS-N and confirm previously reported overdensities at $z\\\\sim5.2$ in GOODS-N and at z~5.4 and z~5.9 in GOODS-S. We compute the observed H{\\\\alpha} luminosity functions (LFs) in three bins centered at z~4.45, 5.30, and 6.15, which are the first such measurements at z>3 obtained based purely on spectroscopic data, robustly tracing galaxy star formation rates\"),\n",
       " Document(metadata={'source': 'https://arxiv.org/list/astro-ph.GA/new', 'title': 'Astrophysics of Galaxies  ', 'language': 'en', 'start_index': 42217}, page_content='(LFs) in three bins centered at z~4.45, 5.30, and 6.15, which are the first such measurements at z>3 obtained based purely on spectroscopic data, robustly tracing galaxy star formation rates (SFRs) beyond the peak of the cosmic star formation history. We compare our results with theoretical predictions from three different simulations and find good agreement at z~4-6. The UV LFs of this spectroscopically-confirmed sample are in good agreement with pre-JWST measurements obtained with photometrically-selected objects. Finally, we derive SFR functions and integrate these to compute the evolution of the cosmic star-formation rate densities across z~4-6, finding values in good agreement with recent UV estimates from Lyman-break galaxies, which imply a continuous decrease in SFR density by a factor of 3x over z~4 to z~6. Our work shows the power of NIRCam grism observations to efficiently provide new tests for early galaxy formation models based on emission line statistics.'),\n",
       " Document(metadata={'source': 'https://arxiv.org/list/astro-ph.GA/new', 'title': 'Astrophysics of Galaxies  ', 'language': 'en', 'start_index': 43212}, page_content='[20]\\n\\n        arXiv:2410.10654\\n      \\n          (replaced)\\n\\n        [pdf, html, other]\\n    \\n\\n\\nTitle:\\n          Biases in galaxy spectral analysis from strong lensing differential magnification effect and correction methods\\n        \\nWenshuo Xu, Dandan Xu, Xinzhong Er, Junqiang Ge\\nComments:\\n          15 pages, 12 figures (including 3 in the appendix), 2 tables, accepted for publication in MNRAS\\n        \\nSubjects:\\nAstrophysics of Galaxies (astro-ph.GA)'),\n",
       " Document(metadata={'source': 'https://arxiv.org/list/astro-ph.GA/new', 'title': 'Astrophysics of Galaxies  ', 'language': 'en', 'start_index': 43678}, page_content='Strong gravitational lensing has significantly advanced the study of high-redshift galaxies, but the differential magnification effect inevitably introduces biases in the spectral analysis of source galaxies. This work investigates these biases using mock lensing systems from MaNGA survey data and IllustrisTNG simulations. We analyze the impact of lensing effect on several spectral properties, including stellar age, metallicity, H$\\\\alpha$ flux, and optical emission line ratios. Our results show significant biases in all properties after lensing. The values of quantities can be either over- or under-estimated, except for the consistently enhanced H$\\\\alpha$ flux. The bias varies with lensing configurations and always arises when part of the source galaxy falls into the strong lensing regime. We evaluate two correction methods to recover the intrinsic source properties: the average magnification factor ($\\\\bar{\\\\mu}$) and full ray-tracing. While both methods reduce the'),\n",
       " Document(metadata={'source': 'https://arxiv.org/list/astro-ph.GA/new', 'title': 'Astrophysics of Galaxies  ', 'language': 'en', 'start_index': 44463}, page_content='lensing regime. We evaluate two correction methods to recover the intrinsic source properties: the average magnification factor ($\\\\bar{\\\\mu}$) and full ray-tracing. While both methods reduce the overestimated H$\\\\alpha$ flux, the $\\\\bar{\\\\mu}$ method shows a much larger discrepancy. For stellar population properties and emission line ratios, the $\\\\bar{\\\\mu}$ method fails whereas the ray-tracing method proves effective. Applying these two methods to a statistical sample of mock systems further shows their strong dependence on lens modeling accuracy. As a demonstrative study, our results highlight the importance of spatially resolved spectroscopic observations and precise lens modeling for reconstructing spectra of strongly lensed galaxies. While our conclusions are based on a specific source and lens galaxy, further studies with a statistical sample of realistic mock lensing systems are needed for understanding any systematic differences between the two correction methods.'),\n",
       " Document(metadata={'source': 'https://arxiv.org/list/astro-ph.GA/new', 'title': 'Astrophysics of Galaxies  ', 'language': 'en', 'start_index': 45457}, page_content='[21]\\n\\n        arXiv:2410.10954\\n      \\n          (replaced)\\n\\n        [pdf, html, other]\\n    \\n\\n\\nTitle:\\n          Spectroscopic confirmation of a dust-obscured, metal-rich dwarf galaxy at z~5\\n        \\nL. Bisigello, G. Gandolfi, A. Feltre, P. Arrabal Haro, A. Calabrò, N.J. Cleri, L. Costantin, G. Girardi, M. Giulietti, A. Grazian, C. Gruppioni, N.P. Hathi, B.W. Holwerda, M. Llerena, R.A. Lucas, F. Pacucci, I. Prandoni, G. Rodighiero, L.-M. Seillé, S.M. Wilkins, M. Bagley, M. Dickinson., S.L. Finkelstein, J. Kartaltepe, A.M. Koekemoer, C. Papovich, N. Pirzkal\\nComments:\\n          15 pages, 12 figures. Accepted by A&A on the 13th of December 2024\\n        \\nSubjects:\\nAstrophysics of Galaxies (astro-ph.GA)'),\n",
       " Document(metadata={'source': 'https://arxiv.org/list/astro-ph.GA/new', 'title': 'Astrophysics of Galaxies  ', 'language': 'en', 'start_index': 46175}, page_content='We present the first spectroscopic confirmation of a dust-obscured dwarf galaxy, CEERS-14821. The analysis is performed combining JWST NIRCam broad-band photometry and NIRSpec/PRISM spectroscopic data. From the detection of multiple rest-frame optical lines, we derive that CEERS-14821 is located at $z=4.883\\\\pm0.003$. Moreover, from a secure detection of the $H_{\\\\alpha}$ and $H_{\\\\beta}$ we derived that the galaxy has a dust extinction ranging from Av=2.2 to Av=3.3, depending on the assumed reddening law. This value is extremely large given that we estimated a low stellar mass around log(M/Mo)=8.0-8.2. Moreover, using different metallicity tracers, we verify that the galaxy is also metal-rich, with 12+log(O/H)>8.3. This is well above the expectation from both the mass-metallicity relation and the fundamental mass-metalliticy relation. CEERS-14821 is going through a burst of star formation, there are no indications of a strong contribution from an active galactic nuclei'),\n",
       " Document(metadata={'source': 'https://arxiv.org/list/astro-ph.GA/new', 'title': 'Astrophysics of Galaxies  ', 'language': 'en', 'start_index': 46964}, page_content='relation and the fundamental mass-metalliticy relation. CEERS-14821 is going through a burst of star formation, there are no indications of a strong contribution from an active galactic nuclei (f(AGN)<0.5 with respect to the total dust luminosity). Based on the rest-frame optical images, this source has a size compatible with galaxies of similar stellar mass and redshift. Finally, with the current data, it seems that there are galaxies closely interacting with CEERS-14821.'),\n",
       " Document(metadata={'source': 'https://arxiv.org/list/astro-ph.GA/new', 'title': 'Astrophysics of Galaxies  ', 'language': 'en', 'start_index': 47454}, page_content='[22]\\n\\n        arXiv:2411.02352\\n      \\n          (replaced)\\n\\n        [pdf, html, other]\\n    \\n\\n\\nTitle:\\n          Virgo Filaments IV: Using WISE to Measure the Modification of Star-Forming Disks in the Extended Regions Around the Virgo Cluster\\n        \\nKim Conger, Gregory Rudnick, Rose A. Finn, Gianluca Castignani, John Moustakas, Benedetta Vulcani, Daria Zakharova, Lizhi Xie, Francoise Combes, Pascale Jablonka, Yannick Bahé, Gabriella De Lucia, Vandana Desai, Rebecca A. Koopmann, Dara Norman, Melinda Townsend, Dennis Zaritsky\\nComments:\\n          In press\\n        \\nSubjects:\\nAstrophysics of Galaxies (astro-ph.GA)'),\n",
       " Document(metadata={'source': 'https://arxiv.org/list/astro-ph.GA/new', 'title': 'Astrophysics of Galaxies  ', 'language': 'en', 'start_index': 48083}, page_content='Recent theoretical work and targeted observational studies suggest that filaments are sites of galaxy preprocessing. The aim of the WISESize project is to directly probe galaxies over the full range of environments to quantify and characterize extrinsic galaxy quenching in the local Universe. In this paper, we use GALFIT to measure the infrared 12$\\\\mu$m ($R_{12}$) and 3.4$\\\\mu$m ($R_{3.4}$) effective radii of 603 late-type galaxies in and surrounding the Virgo cluster. We find that Virgo cluster galaxies show smaller star-forming disks relative to their field counterparts at the $2.5\\\\sigma$ level, while filament galaxies show smaller star-forming disks to almost $1.5\\\\sigma$. Our data, therefore, show that cluster galaxies experience significant effects on their star-forming disks prior to their final quenching period. There is also tentative support for the hypothesis that galaxies are preprocessed in filamentary regions surrounding clusters. On the other hand, galaxies'),\n",
       " Document(metadata={'source': 'https://arxiv.org/list/astro-ph.GA/new', 'title': 'Astrophysics of Galaxies  ', 'language': 'en', 'start_index': 48867}, page_content='disks prior to their final quenching period. There is also tentative support for the hypothesis that galaxies are preprocessed in filamentary regions surrounding clusters. On the other hand, galaxies belonging to rich groups and poor groups do not differ significantly from those in the field. We additionally find hints of a positive correlation between stellar mass and size ratio for both rich group and filament galaxies, though the uncertainties on these data are consistent with no correlation. We compare our size measurements with the predictions from two variants of a state-of-the-art semi-analytic model (SAM), one which includes starvation and the other incorporating both starvation and ram-pressure stripping (RPS). Our data appear to disfavor the SAM, which includes RPS for the rich group, filament, and cluster samples, which contributes to improved constraints for general models of galaxy quenching.'),\n",
       " Document(metadata={'source': 'https://arxiv.org/list/astro-ph.GA/new', 'title': 'Astrophysics of Galaxies  ', 'language': 'en', 'start_index': 49798}, page_content='[23]\\n\\n        arXiv:2412.07834\\n      \\n          (replaced)\\n\\n        [pdf, html, other]\\n    \\n\\n\\nTitle:\\n          Evidence that pre-processing in filaments drives the anisotropic quenching of satellite galaxies in massive clusters\\n        \\nHarry Stephenson (Lancaster), John Stott, Joseph Butler, Molly Webster, Jonathan Head\\nComments:\\n          15 pages, 10 figures. This paper has been accepted for publication in MNRAS\\n        \\nSubjects:\\nAstrophysics of Galaxies (astro-ph.GA)'),\n",
       " Document(metadata={'source': 'https://arxiv.org/list/astro-ph.GA/new', 'title': 'Astrophysics of Galaxies  ', 'language': 'en', 'start_index': 50287}, page_content='We use a sample of 11 $z\\\\approx0.2-0.5$ ($z_{\\\\text{med.}} = 0.36$) galaxy clusters from the Cluster Lensing And Supernovae survey with Hubble (CLASH) to analyse the angular dependence of satellite galaxy colour $(B-R)$ and passive galaxy fraction ($f_{\\\\text{pass.}}$) with respect to the major axis of the brightest cluster galaxy (BCG). This phenomenon has been dubbed as \\\\say{anisotropic quenching}, \\\\say{angular conformity} or \\\\say{angular segregation}, and it describes how satellite galaxies along the major axis of the BCG are more likely to be quenched than those along the minor axis. A highly significant anisotropic quenching signal is found for satellites, with a peak in $(B-R)$ and $f_{\\\\text{pass.}}$ along the major axis. We are the first to measure anisotropic quenching out to cluster-centric radii of $3R_{200}$ ($R_{200\\\\text{, med.}} \\\\approx 933$ \\\\si{\\\\kilo\\\\parsec}). We find that the signal is significant out to at least $2.5R_{200}$, and the amplitude of the signal'),\n",
       " Document(metadata={'source': 'https://arxiv.org/list/astro-ph.GA/new', 'title': 'Astrophysics of Galaxies  ', 'language': 'en', 'start_index': 51073}, page_content='out to cluster-centric radii of $3R_{200}$ ($R_{200\\\\text{, med.}} \\\\approx 933$ \\\\si{\\\\kilo\\\\parsec}). We find that the signal is significant out to at least $2.5R_{200}$, and the amplitude of the signal peaks at $\\\\approx1.25R_{200}$. This is the first time a radial peak of the anisotropic quenching signal has been measured directly. We suggest that this peak could be caused by a build-up of backsplash galaxies at this radius. Finally, we find that $f_{\\\\text{pass.}}$ is significantly higher along the major axis for fixed values of local surface density. The density drops less rapidly along the major axis and so satellites spend more time being pre-processed here compared to the minor axis. We therefore conclude that pre-processing in large-scale structure, and not active galactic nuclei outflows (AGN), is the cause of the anisotropic quenching signal in massive galaxy clusters, however this may not be the cause in lower mass halos.'),\n",
       " Document(metadata={'source': 'https://arxiv.org/list/astro-ph.GA/new', 'title': 'Astrophysics of Galaxies  ', 'language': 'en', 'start_index': 52027}, page_content='[24]\\n\\n        arXiv:2412.12709\\n      \\n          (replaced)\\n\\n        [pdf, other]\\n    \\n\\n\\nTitle:\\n          Accelerating lensed quasars discovery and modeling with physics-informed variational autoencoders\\n        \\nIrham T. Andika, Stefan Schuldt, Sherry H. Suyu, Satadru Bag, Raoul Cañameras, Alejandra Melo, Claudio Grillo, James H. H. Chan\\nComments:\\n          Submitted to the Astronomy & Astrophysics journal and updated to reflect the revised version. The paper consists of 17 main pages, 14 figures, and 5 tables. We welcome feedback and comments from readers!\\n        \\nSubjects:\\nAstrophysics of Galaxies (astro-ph.GA); Cosmology and Nongalactic Astrophysics (astro-ph.CO); Instrumentation and Methods for Astrophysics (astro-ph.IM); Computer Vision and Pattern Recognition (cs.CV); Machine Learning (cs.LG)'),\n",
       " Document(metadata={'source': 'https://arxiv.org/list/astro-ph.GA/new', 'title': 'Astrophysics of Galaxies  ', 'language': 'en', 'start_index': 52858}, page_content='Strongly lensed quasars provide valuable insights into the rate of cosmic expansion, the distribution of dark matter in foreground deflectors, and the characteristics of quasar hosts. However, detecting them in astronomical images is difficult due to the prevalence of non-lensing objects. To address this challenge, we developed a generative deep learning model called VariLens, built upon a physics-informed variational autoencoder. This model seamlessly integrates three essential modules: image reconstruction, object classification, and lens modeling, offering a fast and comprehensive approach to strong lens analysis. VariLens is capable of rapidly determining both (1) the probability that an object is a lens system and (2) key parameters of a singular isothermal ellipsoid (SIE) mass model -- including the Einstein radius ($\\\\theta_\\\\mathrm{E}$), lens center, and ellipticity -- in just milliseconds using a single CPU. A direct comparison of VariLens estimates with traditional'),\n",
       " Document(metadata={'source': 'https://arxiv.org/list/astro-ph.GA/new', 'title': 'Astrophysics of Galaxies  ', 'language': 'en', 'start_index': 53647}, page_content='mass model -- including the Einstein radius ($\\\\theta_\\\\mathrm{E}$), lens center, and ellipticity -- in just milliseconds using a single CPU. A direct comparison of VariLens estimates with traditional lens modeling for 20 known lensed quasars within the Subaru Hyper Suprime-Cam (HSC) footprint shows good agreement, with both results consistent within $2\\\\sigma$ for systems with $\\\\theta_\\\\mathrm{E}<3$ arcsecs. To identify new lensed quasar candidates, we begin with an initial sample of approximately 80 million sources, combining HSC data with multiwavelength information from various surveys. After applying a photometric preselection aimed at locating $z>1.5$ sources, the number of candidates is reduced to 710,966. Subsequently, VariLens highlights 13,831 sources, each showing a high likelihood of being a lens. A visual assessment of these objects results in 42 promising candidates that await spectroscopic confirmation. These results underscore the potential of automated deep learning'),\n",
       " Document(metadata={'source': 'https://arxiv.org/list/astro-ph.GA/new', 'title': 'Astrophysics of Galaxies  ', 'language': 'en', 'start_index': 54447}, page_content='of being a lens. A visual assessment of these objects results in 42 promising candidates that await spectroscopic confirmation. These results underscore the potential of automated deep learning pipelines to efficiently detect and model strong lenses in large datasets.'),\n",
       " Document(metadata={'source': 'https://arxiv.org/list/astro-ph.GA/new', 'title': 'Astrophysics of Galaxies  ', 'language': 'en', 'start_index': 54728}, page_content='[25]\\n\\n        arXiv:2501.09662\\n      \\n          (replaced)\\n\\n        [pdf, html, other]\\n    \\n\\n\\nTitle:\\n          SHORES: Serendipitous H-ATLAS-fields Observations of Radio Extragalactic Sources with the ATCA. I: catalog generation and analysis\\n        \\nMarcella Massardi, Meriem Behiri, Vincenzo Galluzzi, Marika Giulietti, Francesca Perrotta, Isabella Prandoni, Andrea Lapi\\nComments:\\n          30 pages, 23 figures. Accepted on PASP. Project website at the URL: this https URL\\n\\nSubjects:\\nAstrophysics of Galaxies (astro-ph.GA); Cosmology and Nongalactic Astrophysics (astro-ph.CO)'),\n",
       " Document(metadata={'source': 'https://arxiv.org/list/astro-ph.GA/new', 'title': 'Astrophysics of Galaxies  ', 'language': 'en', 'start_index': 55328}, page_content='We introduce the Serendipitous H-ATLAS-fields Observations of Radio Extragalactic Sources (SHORES) multiple pencil beam survey that observed at 2.1 GHz with the Australia Telescope Compact Array (ATCA) 29 fields in total intensity and polarization within the Herschel-ATLAS Southern Galactic Field. This paper presents the observations, calibration and analysis of the 27 shallow fields that cover an overall area of $\\\\sim 26$ square degree with increasing sensitivity towards the phase centers of each pointing according to the ATCA 22 m dish response function, down to $\\\\sigma\\\\lesssim 33\\\\, \\\\mu$Jy. Two additional (deep) fields have been observed to even higher sensitivity. All the SHORES observations have been calibrated to account also for linear polarization. Polarization and deeper field analysis will be presented in future papers. The SHORES shallow-field sample considered in the present paper counts $2294$ sources detected with BLOBCAT to signal-to-noise ratio $SNR\\\\gtrsim'),\n",
       " Document(metadata={'source': 'https://arxiv.org/list/astro-ph.GA/new', 'title': 'Astrophysics of Galaxies  ', 'language': 'en', 'start_index': 56118}, page_content='field analysis will be presented in future papers. The SHORES shallow-field sample considered in the present paper counts $2294$ sources detected with BLOBCAT to signal-to-noise ratio $SNR\\\\gtrsim 4.5$. Simulations determined that our procedure and final catalog is 95% reliable above $497.5\\\\, \\\\mu$Jy and $95\\\\%$ complete to the $SNR\\\\gtrsim 4.5$ significance level. By exploiting ATCA E-W 6 km configuration we reached resolutions of $3.2\\\\times 7.2$ arcsec, to which level $81\\\\%$ of our sources are unresolved. We determined source counts down to the $150\\\\, \\\\mu$Jy level. For the sources with a counterpart in H-ATLAS, the FIR-radio correlation is calculated and discussed.'),\n",
       " Document(metadata={'source': 'https://arxiv.org/list/astro-ph.GA/new', 'title': 'Astrophysics of Galaxies  ', 'language': 'en', 'start_index': 56802}, page_content='[26]\\n\\n        arXiv:2402.18645\\n      \\n          (replaced)\\n\\n        [pdf, html, other]\\n    \\n\\n\\nTitle:\\n          The conceptual design of the 50-meter Atacama Large Aperture Submillimeter Telescope (AtLAST)\\n        \\nTony Mroczkowski, Patricio A. Gallardo, Martin Timpe, Aleksej Kiselev, Manuel Groh, Hans Kaercher, Matthias Reichert, Claudia Cicone, Roberto Puddu, Pierre Dubois-dit-Bonclaude, Daniel Bok, Erik Dahl, Mike Macintosh, Simon Dicker, Isabelle Viole, Sabrina Sartori, Guillermo Andrés Valenzuela Venegas, Marianne Zeyringer, Michael Niemack, Sergio Poppi, Rodrigo Olguin, Evanthia Hatziminaoglou, Carlos De Breuck, Pamela Klaassen, Francisco Miguel Montenegro-Montes, Thomas Zimmerer\\nComments:\\n          Accepted 2025-Jan-14. 28 pages, 22 figures, 6 tables. Supplementary materials that were previously in Appendix B & C can be found on Zenodo at this https URL'),\n",
       " Document(metadata={'source': 'https://arxiv.org/list/astro-ph.GA/new', 'title': 'Astrophysics of Galaxies  ', 'language': 'en', 'start_index': 57675}, page_content='Subjects:\\nInstrumentation and Methods for Astrophysics (astro-ph.IM); Cosmology and Nongalactic Astrophysics (astro-ph.CO); Astrophysics of Galaxies (astro-ph.GA); High Energy Astrophysical Phenomena (astro-ph.HE); Solar and Stellar Astrophysics (astro-ph.SR)'),\n",
       " Document(metadata={'source': 'https://arxiv.org/list/astro-ph.GA/new', 'title': 'Astrophysics of Galaxies  ', 'language': 'en', 'start_index': 57955}, page_content='The submillimeter and millimeter ((sub-)mm) sky contains a vast wealth of information that is both complementary and inaccessible to other wavelengths. Over half the light we receive is observable at (sub-)mm wavelengths, yet we have mapped only a small portion of the sky at sufficient spatial resolution and sensitivity to detect and resolve distant galaxies or star forming cores within their large-scale environments. For decades the astronomical community has highlighted the need for a large, high-throughput (sub-)mm ($\\\\lambda\\\\sim 0.35-10$ mm) single dish. The Atacama Large Aperture Submillimeter Telescope (AtLAST), with its 50-m aperture and $2^\\\\circ$ maximal field of view, aims to be such a facility. We present here the preliminary design concept for AtLAST, developed through an EU Horizon 2020-funded design study. Our design approach begins with a long lineage of (sub-)mm telescopes, relies on calculations and simulations to realize the optics, and uses finite element'),\n",
       " Document(metadata={'source': 'https://arxiv.org/list/astro-ph.GA/new', 'title': 'Astrophysics of Galaxies  ', 'language': 'en', 'start_index': 58745}, page_content='an EU Horizon 2020-funded design study. Our design approach begins with a long lineage of (sub-)mm telescopes, relies on calculations and simulations to realize the optics, and uses finite element analysis to optimize the designs for the mechanical structure and subsystems. The demanding technical requirements for AtLAST, set by transformative science goals, have motivated the design effort to combine novel concepts with lessons learned from the past experience of previous efforts. The result is an innovative rocking chair design with six instrument bays, two of which are mounted on Nasmyth platforms, inside a large receiver cabin. Ultimately, AtLAST aims to achieve a surface accuracy of $\\\\leq 20~\\\\mu$m root mean square half wavefront error, corresponding a Ruze efficiency $>50\\\\%$ at 950~GHz. We conclude that closed-loop metrology of the active primary surface will likely be required to achieve our surface accuracy goal. In the next phase of the project, we will prototype and test such'),\n",
       " Document(metadata={'source': 'https://arxiv.org/list/astro-ph.GA/new', 'title': 'Astrophysics of Galaxies  ', 'language': 'en', 'start_index': 59548}, page_content='We conclude that closed-loop metrology of the active primary surface will likely be required to achieve our surface accuracy goal. In the next phase of the project, we will prototype and test such metrology on existing platforms, with a goal of delivering a mature, construction-ready design by the end of this decade.'),\n",
       " Document(metadata={'source': 'https://arxiv.org/list/astro-ph.GA/new', 'title': 'Astrophysics of Galaxies  ', 'language': 'en', 'start_index': 59879}, page_content='Total of 26 entries \\n    \\nShowing up to 2000 entries per page:\\n          \\n      fewer\\n |\\n          more\\n |\\n          all\\n\\n\\n \\n\\n\\n\\n\\n\\n\\n\\n\\nAbout\\nHelp\\n\\n\\n\\n\\n\\ncontact arXivClick here to contact arXiv\\n Contact\\n\\n\\nsubscribe to arXiv mailingsClick here to subscribe\\n Subscribe\\n\\n\\n\\n\\n\\n\\n\\n\\n\\n\\n\\nCopyright\\nPrivacy Policy\\n\\n\\n\\n\\nWeb Accessibility Assistance\\n\\n\\narXiv Operational Status \\n                    Get status notifications via\\n                    email\\n                    or slack')]"
      ]
     },
     "execution_count": 11,
     "metadata": {},
     "output_type": "execute_result"
    }
   ],
   "source": [
    "splits"
   ]
  },
  {
   "cell_type": "code",
   "execution_count": 12,
   "metadata": {},
   "outputs": [],
   "source": [
    "###turn the text splited into embeddings\n",
    "hf_embeddings = HuggingFaceEmbeddings(model_name = \"sentence-transformers/all-mpnet-base-v2\")"
   ]
  },
  {
   "cell_type": "code",
   "execution_count": 13,
   "metadata": {},
   "outputs": [],
   "source": [
    "####aplicando o embbedding na base de dados vetorial\n",
    "vectorstore = Chroma.from_documents(documents=splits, embedding=hf_embeddings)"
   ]
  },
  {
   "cell_type": "code",
   "execution_count": 14,
   "metadata": {},
   "outputs": [],
   "source": [
    "retriever = vectorstore.as_retriever(search_type = \"similarity\", search_kwargs = {\"k\" : 6})"
   ]
  },
  {
   "cell_type": "code",
   "execution_count": 15,
   "metadata": {},
   "outputs": [
    {
     "data": {
      "text/plain": [
       "'\\n<|begin_of_text|>\\n<|start_header_id|>system<|end_header_id|>\\nYou are a professional astronomer searching for the main topics in the new articles available on\\narchive with the goal to check the main results from those articles.\\n<|eot_id|>\\n<|start_header_id|>user<|end_header_id|>\\nPergunta: {question}\\nContexto: {context}\\n<|eot_id|>\\n<|start_header_id|>assistant<|end_header_id|>\\n'"
      ]
     },
     "execution_count": 15,
     "metadata": {},
     "output_type": "execute_result"
    }
   ],
   "source": [
    "template_rag"
   ]
  },
  {
   "cell_type": "code",
   "execution_count": 22,
   "metadata": {},
   "outputs": [
    {
     "data": {
      "text/plain": [
       "PromptTemplate(input_variables=['context', 'question'], input_types={}, partial_variables={}, template='\\n<|begin_of_text|>\\n<|start_header_id|>system<|end_header_id|>\\nYou are a professional astronomer searching for the main topics in the new articles available on\\narchive with the goal to check the main results from those articles.  When providing results, ensure they are formatted as:\\n- Bullet points for key topics.\\n- Paragraphs for explanations.\\n- Use Markdown if helpful.\\n<|eot_id|>\\n<|start_header_id|>user<|end_header_id|>\\nPergunta: {question}\\nContexto: {context}\\n<|eot_id|>\\n<|start_header_id|>assistant<|end_header_id|>\\n')"
      ]
     },
     "execution_count": 22,
     "metadata": {},
     "output_type": "execute_result"
    }
   ],
   "source": [
    "prompt_rag = PromptTemplate(\n",
    "    input_variables=[\"context\", \"question\"],\n",
    "    template=template_rag,\n",
    ")\n",
    "prompt_rag"
   ]
  },
  {
   "cell_type": "code",
   "execution_count": 17,
   "metadata": {},
   "outputs": [],
   "source": [
    "def format_docs(docs):\n",
    "    return \"\\n\\n\".join(doc.page_content for doc in docs)"
   ]
  },
  {
   "cell_type": "code",
   "execution_count": 23,
   "metadata": {},
   "outputs": [],
   "source": [
    "chain_rag = ({\"context\": retriever | format_docs, \"question\" : RunnablePassthrough()}\n",
    "            | prompt_rag\n",
    "            | llm\n",
    "            | StrOutputParser())"
   ]
  },
  {
   "cell_type": "code",
   "execution_count": 24,
   "metadata": {},
   "outputs": [
    {
     "name": "stderr",
     "output_type": "stream",
     "text": [
      "Setting `pad_token_id` to `eos_token_id`:128001 for open-end generation.\n"
     ]
    },
    {
     "data": {
      "text/plain": [
       "'Here are the titles of the articles that use JWST data:\\n\\n* \"JWST Imaging of the Closest Globular Clusters -- V. The White Dwarfs Cooling Sequence of M4\"\\n* \"Chasing the Light: Shadowing, Collimation, and the Super-Eddington Growth of Infant Black Holes in JWST-Discovered AGNs\"\\n* \"Photometric detection at $7.7\\\\ \\\\mu\\\\mathrm{m}$ of a galaxy beyond redshift $14$ with JWST/MIRI\"\\n\\nThese articles appear to be related to astronomy and astrophysics, specifically focusing on the James Webb Space Telescope (JWST) and its capabilities.'"
      ]
     },
     "execution_count": 24,
     "metadata": {},
     "output_type": "execute_result"
    }
   ],
   "source": [
    "chain_rag.invoke(\"are there some article using JWST data? give me only the title of the articles\")"
   ]
  },
  {
   "cell_type": "code",
   "execution_count": 25,
   "metadata": {},
   "outputs": [
    {
     "ename": "ModuleNotFoundError",
     "evalue": "No module named 'gradio'",
     "output_type": "error",
     "traceback": [
      "\u001b[0;31m---------------------------------------------------------------------------\u001b[0m",
      "\u001b[0;31mModuleNotFoundError\u001b[0m                       Traceback (most recent call last)",
      "Cell \u001b[0;32mIn[25], line 1\u001b[0m\n\u001b[0;32m----> 1\u001b[0m \u001b[38;5;28;01mimport\u001b[39;00m \u001b[38;5;21;01mgradio\u001b[39;00m \u001b[38;5;28;01mas\u001b[39;00m \u001b[38;5;21;01mgr\u001b[39;00m\n",
      "\u001b[0;31mModuleNotFoundError\u001b[0m: No module named 'gradio'"
     ]
    }
   ],
   "source": [
    "import gradio as gr"
   ]
  },
  {
   "cell_type": "code",
   "execution_count": null,
   "metadata": {},
   "outputs": [],
   "source": []
  }
 ],
 "metadata": {
  "kernelspec": {
   "display_name": "Python 3",
   "language": "python",
   "name": "python3"
  },
  "language_info": {
   "codemirror_mode": {
    "name": "ipython",
    "version": 3
   },
   "file_extension": ".py",
   "mimetype": "text/x-python",
   "name": "python",
   "nbconvert_exporter": "python",
   "pygments_lexer": "ipython3",
   "version": "3.10.12"
  }
 },
 "nbformat": 4,
 "nbformat_minor": 2
}
